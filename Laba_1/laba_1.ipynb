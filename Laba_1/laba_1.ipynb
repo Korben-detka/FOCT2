{
 "cells": [
  {
   "cell_type": "code",
   "execution_count": 7,
   "metadata": {},
   "outputs": [],
   "source": [
    "import numpy as np\n",
    "import matplotlib.pyplot as plt\n",
    "import sympy as sp\n",
    "\n",
    "np.set_printoptions(threshold=np.inf)  # Убирает ограничение на вывод\n"
   ]
  },
  {
   "cell_type": "code",
   "execution_count": 8,
   "metadata": {},
   "outputs": [],
   "source": [
    "def factorize_polynomial(coeffs):\n",
    "    a_n = coeffs[0]\n",
    "\n",
    "    roots = np.roots(coeffs)\n",
    "\n",
    "    def format_root(r):\n",
    "        real_part = f\"{r.real:.4g}\".rstrip('0').rstrip('.')  # Убираем лишние нули в вещественной части\n",
    "        imag_part = f\"{r.imag:.4g}\".rstrip('0').rstrip('.')  # Убираем лишние нули в мнимой части\n",
    "\n",
    "        if r.imag == 0:\n",
    "            return f\"{real_part}\"\n",
    "        elif r.real == 0:\n",
    "            return f\"{imag_part}j\"\n",
    "        else:\n",
    "            return f\"({real_part} {'+' if r.imag > 0 else '-'} {abs(float(imag_part))}j)\"\n",
    "\n",
    "    factorized_str = f\"{a_n:.4g} * \" + \" * \".join([f\"(p - {format_root(r)})\" for r in roots])\n",
    "\n",
    "    return factorized_str, roots\n",
    "\n",
    "\n",
    "def count_right_left_roots(roots):\n",
    "    left_count = sum(1 for r in roots if np.real(r) < 0)   # Левые корни\n",
    "    right_count = sum(1 for r in roots if np.real(r) > 0)  # Правые корни\n",
    "\n",
    "    return left_count, right_count"
   ]
  },
  {
   "cell_type": "code",
   "execution_count": 9,
   "metadata": {},
   "outputs": [],
   "source": [
    "def hurwitz_criterion(coefs):\n",
    "    n = len(coefs) - 1  # степень полинома\n",
    "    details = \"\\nРезультат анализа по критерию Гурвица:\\n\"\n",
    "\n",
    "    # Необходимое условие: все коэффициенты должны быть положительными.\n",
    "    if any(c <= 0 for c in coefs):\n",
    "        details += \"Не все коэффициенты положительны. Система неустойчива.\\n\"\n",
    "        return False, details\n",
    "\n",
    "    b = sorted(coefs, key=lambda x: -abs(x))  # Сортировка по убыванию\n",
    "\n",
    "    # Инициализируем матрицу\n",
    "    H = np.zeros((n, n))\n",
    "\n",
    "    # Заполняем матрицу\n",
    "    for i in range(n):\n",
    "        for j in range(n):\n",
    "            idx = 2 * j - i + 1\n",
    "            if 0 <= idx < len(b):\n",
    "                H[i, j] = b[idx]\n",
    "            else:\n",
    "                H[i, j] = 0\n",
    "\n",
    "    details += \"Матрица Гурвица\\n\" + str(H) + \"\\n\\n\"\n",
    "\n",
    "    # Вычисляем ведущие определители (главные миноры)\n",
    "    details += \"Мажорные определители\\n\"\n",
    "    determinants = []\n",
    "    for i in range(1, n + 1):\n",
    "        submatrix = H[:i, :i]\n",
    "        det = np.linalg.det(submatrix)\n",
    "        determinants.append(det)\n",
    "        details += f\"Δ{i} = {det:.4f}\\n\"\n",
    "\n",
    "    # Если все определители положительны, система устойчива\n",
    "    is_stable = all(det > 0 for det in determinants)\n",
    "    if is_stable:\n",
    "        details += \"Все ведущие определители положительны. Система устойчива.\\n\"\n",
    "    else:\n",
    "        details += \"Найден отрицательный определитель. Система неустойчива.\\n\"\n",
    "\n",
    "    return is_stable, details"
   ]
  },
  {
   "cell_type": "code",
   "execution_count": 10,
   "metadata": {},
   "outputs": [
    {
     "name": "stdout",
     "output_type": "stream",
     "text": [
      "Символьные коэффициенты:\n",
      "a0 = 1\n",
      "a1 = T1 + 2*T2*eps\n",
      "a2 = 2*T1*T2*eps + T2**2\n",
      "a3 = T1*T2**2\n",
      "\n",
      "Числовые коэффициенты:\n",
      "96.0  44.8  10.8  1.0  "
     ]
    }
   ],
   "source": [
    "p, k, T1, T2, eps = sp.symbols('p k T1 T2 eps')\n",
    "\n",
    "# Передаточная функция W(p)\n",
    "W_p = (k * p) / ((T1 * p + 1) * (T2**2 * p**2 + 2 * T2 * eps * p + 1))\n",
    "\n",
    "# Вычисляем знаменатель\n",
    "denominator = sp.expand((T1 * p + 1) * (T2**2 * p**2 + 2 * T2 * eps * p + 1))\n",
    "\n",
    "# Извлекаем коэффициенты\n",
    "coeffs_symbolic = sp.Poly(denominator, p).all_coeffs()\n",
    "\n",
    "# Подставляем\n",
    "# params = {k: 6, T1: 1.2, T2: 0.08, eps: 0.06} # anya\n",
    "params = {k: 0.5, T1: 6, T2: 4, eps: 0.6}\n",
    "coeffs_numeric = [float(coeff.subs(params)) for coeff in coeffs_symbolic]\n",
    "\n",
    "# Вывод коэффициентов\n",
    "print(\"Символьные коэффициенты:\")\n",
    "for i, coeff in enumerate(coeffs_symbolic[::-1]):\n",
    "    print(f\"a{i} =\", coeff)\n",
    "\n",
    "print(\"\\nЧисловые коэффициенты:\")\n",
    "for coef in coeffs_numeric:\n",
    "    print(coef,end=\"  \")"
   ]
  },
  {
   "cell_type": "code",
   "execution_count": 11,
   "metadata": {},
   "outputs": [
    {
     "name": "stdout",
     "output_type": "stream",
     "text": [
      "\n",
      "Результат анализа по критерию Гурвица:\n",
      "Матрица Гурвица\n",
      "[[44.8  1.   0. ]\n",
      " [96.  10.8  0. ]\n",
      " [ 0.  44.8  1. ]]\n",
      "\n",
      "Мажорные определители\n",
      "Δ1 = 44.8000\n",
      "Δ2 = 387.8400\n",
      "Δ3 = 387.8400\n",
      "Все ведущие определители положительны. Система устойчива.\n",
      "\n"
     ]
    }
   ],
   "source": [
    "# критерий Гурвица - коэффициенты и определители положительны\n",
    "hurw_stable, hurw_details = hurwitz_criterion(coeffs_numeric)\n",
    "print(hurw_details)"
   ]
  },
  {
   "cell_type": "markdown",
   "metadata": {},
   "source": [
    "Михайлова"
   ]
  },
  {
   "cell_type": "code",
   "execution_count": 12,
   "metadata": {},
   "outputs": [
    {
     "name": "stdout",
     "output_type": "stream",
     "text": [
      "\n",
      "Выражение:\n",
      "96 * (p - (-0.15 + 0.2j)) * (p - (-0.15 - 0.2j)) * (p - -0.1667)\n",
      "\n",
      "left_roots  = 3\n",
      "right_roots = 0\n"
     ]
    }
   ],
   "source": [
    "#Вычисляем корни и характерестическое уравнение в виде произведения множителей\n",
    "factorized_str,roots = factorize_polynomial(coeffs_numeric)\n",
    "\n",
    "print(\"\\nВыражение:\")\n",
    "print(factorized_str,end=\"\\n\\n\")\n",
    "\n",
    "left_roots, right_roots = count_right_left_roots(roots)\n",
    "print(\"left_roots  =\",left_roots,end=\"\\n\")\n",
    "print(\"right_roots =\",right_roots,end=\"\\n\")"
   ]
  }
 ],
 "metadata": {
  "kernelspec": {
   "display_name": "Python 3",
   "language": "python",
   "name": "python3"
  },
  "language_info": {
   "codemirror_mode": {
    "name": "ipython",
    "version": 3
   },
   "file_extension": ".py",
   "mimetype": "text/x-python",
   "name": "python",
   "nbconvert_exporter": "python",
   "pygments_lexer": "ipython3",
   "version": "3.13.0"
  }
 },
 "nbformat": 4,
 "nbformat_minor": 2
}
