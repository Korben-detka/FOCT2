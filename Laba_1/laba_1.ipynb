{
 "cells": [
  {
   "cell_type": "code",
   "execution_count": 98,
   "metadata": {},
   "outputs": [],
   "source": [
    "import numpy as np\n",
    "import matplotlib.pyplot as plt\n",
    "import sympy as sp\n",
    "\n",
    "np.set_printoptions(threshold=np.inf)  # Убирает ограничение на вывод\n"
   ]
  },
  {
   "cell_type": "code",
   "execution_count": 99,
   "metadata": {},
   "outputs": [],
   "source": [
    "def factorize_polynomial(coeffs):\n",
    "    a_n = coeffs[0]\n",
    "\n",
    "    roots = np.roots(coeffs)\n",
    "\n",
    "    def format_root(r):\n",
    "        real_part = f\"{r.real:.4g}\".rstrip('0').rstrip('.')  # Убираем лишние нули в вещественной части\n",
    "        imag_part = f\"{r.imag:.4g}\".rstrip('0').rstrip('.')  # Убираем лишние нули в мнимой части\n",
    "\n",
    "        if r.imag == 0:\n",
    "            return f\"{real_part}\"\n",
    "        elif r.real == 0:\n",
    "            return f\"{imag_part}j\"\n",
    "        else:\n",
    "            return f\"({real_part} {'+' if r.imag > 0 else '-'} {abs(float(imag_part))}j)\"\n",
    "\n",
    "    factorized_str = f\"{a_n:.4g} * \" + \" * \".join([f\"(p - {format_root(r)})\" for r in roots])\n",
    "\n",
    "    return factorized_str, roots\n",
    "\n",
    "\n",
    "def count_right_left_roots(roots):\n",
    "    left_count = sum(1 for r in roots if np.real(r) < 0)   # Левые корни\n",
    "    right_count = sum(1 for r in roots if np.real(r) > 0)  # Правые корни\n",
    "\n",
    "    return left_count, right_count"
   ]
  },
  {
   "cell_type": "code",
   "execution_count": 100,
   "metadata": {},
   "outputs": [],
   "source": [
    "def hurwitz_criterion(coefs):\n",
    "    n = len(coefs) - 1  # степень полинома\n",
    "    details = \"\\nРезультат анализа по критерию Гурвица:\\n\"\n",
    "\n",
    "    # Необходимое условие: все коэффициенты должны быть положительными.\n",
    "    if any(c <= 0 for c in coefs):\n",
    "        details += \"Не все коэффициенты положительны. Система неустойчива.\\n\"\n",
    "        return False, details\n",
    "\n",
    "    b = sorted(coefs, key=lambda x: -abs(x))  # Сортировка по убыванию\n",
    "\n",
    "    # Инициализируем матрицу\n",
    "    H = np.zeros((n, n))\n",
    "\n",
    "    # Заполняем матрицу\n",
    "    for i in range(n):\n",
    "        for j in range(n):\n",
    "            idx = 2 * j - i + 1\n",
    "            if 0 <= idx < len(b):\n",
    "                H[i, j] = b[idx]\n",
    "            else:\n",
    "                H[i, j] = 0\n",
    "\n",
    "    details += \"Матрица Гурвица\\n\" + str(H) + \"\\n\\n\"\n",
    "\n",
    "    # Вычисляем ведущие определители (главные миноры)\n",
    "    details += \"Мажорные определители\\n\"\n",
    "    determinants = []\n",
    "    for i in range(1, n + 1):\n",
    "        submatrix = H[:i, :i]\n",
    "        det = np.linalg.det(submatrix)\n",
    "        determinants.append(det)\n",
    "        details += f\"Δ{i} = {det:.4f}\\n\"\n",
    "\n",
    "    # Если все определители положительны, система устойчива\n",
    "    is_stable = all(det > 0 for det in determinants)\n",
    "    if is_stable:\n",
    "        details += \"Все ведущие определители положительны. Система устойчива.\\n\"\n",
    "    else:\n",
    "        details += \"Найден отрицательный определитель. Система неустойчива.\\n\"\n",
    "\n",
    "    return is_stable, details"
   ]
  },
  {
   "cell_type": "code",
   "execution_count": 101,
   "metadata": {},
   "outputs": [
    {
     "name": "stdout",
     "output_type": "stream",
     "text": [
      "Символьные коэффициенты:\n",
      "a0 = 1\n",
      "a1 = T1 + 2*T2*eps\n",
      "a2 = 2*T1*T2*eps + T2**2\n",
      "a3 = T1*T2**2\n",
      "\n",
      "Числовые коэффициенты:\n",
      "96.0  44.8  10.8  1.0  "
     ]
    }
   ],
   "source": [
    "p, k, T1, T2, eps = sp.symbols('p k T1 T2 eps')\n",
    "\n",
    "# Передаточная функция W(p)\n",
    "W_p = (k * p) / ((T1 * p + 1) * (T2**2 * p**2 + 2 * T2 * eps * p + 1))\n",
    "\n",
    "# Вычисляем знаменатель\n",
    "denominator = sp.expand((T1 * p + 1) * (T2**2 * p**2 + 2 * T2 * eps * p + 1))\n",
    "\n",
    "# Извлекаем коэффициенты\n",
    "coeffs_symbolic = sp.Poly(denominator, p).all_coeffs()\n",
    "\n",
    "# Подставляем\n",
    "# params = {k: 6, T1: 1.2, T2: 0.08, eps: 0.06} # anya\n",
    "params = {k: 0.5, T1: 6, T2: 4, eps: 0.6}\n",
    "coeffs_numeric = [float(coeff.subs(params)) for coeff in coeffs_symbolic]\n",
    "\n",
    "# Вывод коэффициентов\n",
    "print(\"Символьные коэффициенты:\")\n",
    "for i, coeff in enumerate(coeffs_symbolic[::-1]):\n",
    "    print(f\"a{i} =\", coeff)\n",
    "\n",
    "print(\"\\nЧисловые коэффициенты:\")\n",
    "for coef in coeffs_numeric:\n",
    "    print(coef,end=\"  \")"
   ]
  },
  {
   "cell_type": "code",
   "execution_count": 102,
   "metadata": {},
   "outputs": [
    {
     "name": "stdout",
     "output_type": "stream",
     "text": [
      "\n",
      "Результат анализа по критерию Гурвица:\n",
      "Матрица Гурвица\n",
      "[[44.8  1.   0. ]\n",
      " [96.  10.8  0. ]\n",
      " [ 0.  44.8  1. ]]\n",
      "\n",
      "Мажорные определители\n",
      "Δ1 = 44.8000\n",
      "Δ2 = 387.8400\n",
      "Δ3 = 387.8400\n",
      "Все ведущие определители положительны. Система устойчива.\n",
      "\n"
     ]
    }
   ],
   "source": [
    "# критерий Гурвица - коэффициенты и определители положительны\n",
    "hurw_stable, hurw_details = hurwitz_criterion(coeffs_numeric)\n",
    "print(hurw_details)"
   ]
  },
  {
   "cell_type": "markdown",
   "metadata": {},
   "source": [
    "Михайлова"
   ]
  },
  {
   "cell_type": "code",
   "execution_count": 103,
   "metadata": {},
   "outputs": [
    {
     "name": "stdout",
     "output_type": "stream",
     "text": [
      "\n",
      "Выражение:\n",
      "96 * (p - (-0.15 + 0.2j)) * (p - (-0.15 - 0.2j)) * (p - -0.1667)\n",
      "\n",
      "left_roots  = 3\n",
      "right_roots = 0\n"
     ]
    }
   ],
   "source": [
    "#Вычисляем корни и характерестическое уравнение в виде произведения множителей\n",
    "factorized_str,roots = factorize_polynomial(coeffs_numeric)\n",
    "\n",
    "print(\"\\nВыражение:\")\n",
    "print(factorized_str,end=\"\\n\\n\")\n",
    "\n",
    "left_roots, right_roots = count_right_left_roots(roots)\n",
    "print(\"left_roots  =\",left_roots,end=\"\\n\")\n",
    "print(\"right_roots =\",right_roots,end=\"\\n\")"
   ]
  },
  {
   "cell_type": "code",
   "execution_count": 104,
   "metadata": {},
   "outputs": [
    {
     "name": "stdout",
     "output_type": "stream",
     "text": [
      "Реальная часть (X): 1.0 - 44.8*w**2\n",
      "Мнимая часть (Y): -96.0*w**3 + 10.8*w\n",
      "\n",
      "Корни X(w): {-0.149403576166799, 0.149403576166799}\n",
      "Корни Y(w): {-0.335410196624968, 0, 0.335410196624968}\n",
      "\n",
      "Корни чередуются, система устойчива по критерию Михайлова\n"
     ]
    }
   ],
   "source": [
    "def Michailow_alternating(coeffs_numeric):\n",
    "    w = sp.symbols('w', real=True)\n",
    "    j = sp.I # Условное обозначение мнимой единицы\n",
    "\n",
    "    p = j * w # Подставляем p = jw\n",
    "    polynomial = sum(c * (p ** i) for i, c in enumerate(reversed(coeffs_numeric)))\n",
    "\n",
    "    X = sp.re(polynomial)\n",
    "    Y = sp.im(polynomial)\n",
    "\n",
    "    print(\"Реальная часть (X):\", X)\n",
    "    print(\"Мнимая часть (Y):\", Y)\n",
    "    print()\n",
    "\n",
    "    roots_X = sp.solveset(X, w)\n",
    "    roots_Y = sp.solveset(Y, w)\n",
    "\n",
    "    print(\"Корни X(w):\", roots_X)\n",
    "    print(\"Корни Y(w):\", roots_Y)\n",
    "\n",
    "    def filter_positive_roots(roots):\n",
    "        return [root for root in roots if root.is_real and root >= 0]\n",
    "\n",
    "    def check_alternation(roots_X, roots_Y):\n",
    "        # Объединяем корни в один список\n",
    "        all_roots = [(root, 'X') for root in roots_X] + [(root, 'Y') for root in roots_Y]\n",
    "        all_roots.sort(key=lambda x: x[0])# сортировка в порядке возрастания\n",
    "        # Проверяем чередование\n",
    "        for i in range(1, len(all_roots)):\n",
    "            if all_roots[i][1] == all_roots[i-1][1]:\n",
    "                return False\n",
    "        return True\n",
    "\n",
    "    positive_X = filter_positive_roots(roots_X)\n",
    "    positive_Y = filter_positive_roots(roots_Y)\n",
    "\n",
    "    alternating = check_alternation(positive_X, positive_Y)\n",
    "    print()\n",
    "\n",
    "    if alternating:\n",
    "        print(\"Корни чередуются, система устойчива по критерию Михайлова\")\n",
    "    else:\n",
    "        print(\"Корни не чередуются, система не устойчива по критерию Михайлова\")\n",
    "\n",
    "Michailow_alternating(coeffs_numeric)\n"
   ]
  }
 ],
 "metadata": {
  "kernelspec": {
   "display_name": "Python 3",
   "language": "python",
   "name": "python3"
  },
  "language_info": {
   "codemirror_mode": {
    "name": "ipython",
    "version": 3
   },
   "file_extension": ".py",
   "mimetype": "text/x-python",
   "name": "python",
   "nbconvert_exporter": "python",
   "pygments_lexer": "ipython3",
   "version": "3.13.0"
  }
 },
 "nbformat": 4,
 "nbformat_minor": 2
}
